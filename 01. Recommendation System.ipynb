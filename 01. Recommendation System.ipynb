{
 "cells": [
  {
   "cell_type": "markdown",
   "metadata": {},
   "source": [
    "## Recommendation system for e-commerce businesses"
   ]
  },
  {
   "cell_type": "markdown",
   "metadata": {},
   "source": [
    "A well developed recommendation system will help businesses improve their shopper's experience on website and result in better customer acquisition and retention.\n",
    "\n",
    "The recommendation system, I have designed below is based on the journey of a new customer from the time he/she lands on the business’s website for the first time to when he/she makes repeat purchases.\n",
    "\n",
    "The recommendation system is designed in 3 parts based on the business context:\n",
    "\n",
    "Recommendation system part I: Product pupularity based system targetted at new customers\n",
    "\n",
    "Recommendation system part II: Model-based collaborative filtering system based on customer's purchase history and ratings provided by other users who bought items similar items\n",
    "\n",
    "Recommendation system part III: When a business is setting up its e-commerce website for the first time withou any product rating\n",
    "\n",
    "When a new customer without any previous purchase history visits the e-commerce website for the first time, he/she is recommended the most popular products sold on the company's website. Once, he/she makes a purchase, the recommendation system updates and recommends other products based on the purchase history and ratings provided by other users on the website. The latter part is done using collaborative filtering techniques."
   ]
  },
  {
   "cell_type": "markdown",
   "metadata": {},
   "source": [
    "## Recommendation System - Part I"
   ]
  },
  {
   "cell_type": "markdown",
   "metadata": {},
   "source": [
    "### Product popularity based recommendation system targeted at new customers"
   ]
  },
  {
   "cell_type": "markdown",
   "metadata": {},
   "source": [
    "Popularity based are a great strategy to target the new customers with the most popular products sold on a business's website and is very useful to cold start a recommendation engine."
   ]
  },
  {
   "cell_type": "markdown",
   "metadata": {},
   "source": [
    "## Amazon product review dataset\n",
    "\n",
    "Source: https://www.kaggle.com/skillsmuggler/amazon-ratings"
   ]
  },
  {
   "cell_type": "markdown",
   "metadata": {},
   "source": [
    "#### Importing libraries"
   ]
  },
  {
   "cell_type": "code",
   "execution_count": 47,
   "metadata": {},
   "outputs": [],
   "source": [
    "import numpy as np\n",
    "import pandas as pd\n",
    "import matplotlib.pyplot as plt\n",
    "\n",
    "# %matplotlib inline\n",
    "plt.style.use(\"ggplot\")\n",
    "\n",
    "import sklearn\n",
    "from sklearn.decomposition import TruncatedSVD"
   ]
  },
  {
   "cell_type": "markdown",
   "metadata": {},
   "source": [
    "#### Loading the dataset"
   ]
  },
  {
   "cell_type": "code",
   "execution_count": 48,
   "metadata": {},
   "outputs": [
    {
     "data": {
      "text/html": [
       "<div>\n",
       "<style scoped>\n",
       "    .dataframe tbody tr th:only-of-type {\n",
       "        vertical-align: middle;\n",
       "    }\n",
       "\n",
       "    .dataframe tbody tr th {\n",
       "        vertical-align: top;\n",
       "    }\n",
       "\n",
       "    .dataframe thead th {\n",
       "        text-align: right;\n",
       "    }\n",
       "</style>\n",
       "<table border=\"1\" class=\"dataframe\">\n",
       "  <thead>\n",
       "    <tr style=\"text-align: right;\">\n",
       "      <th></th>\n",
       "      <th>UserId</th>\n",
       "      <th>ProductId</th>\n",
       "      <th>Rating</th>\n",
       "      <th>Timestamp</th>\n",
       "    </tr>\n",
       "  </thead>\n",
       "  <tbody>\n",
       "    <tr>\n",
       "      <th>0</th>\n",
       "      <td>A39HTATAQ9V7YF</td>\n",
       "      <td>0205616461</td>\n",
       "      <td>5.0</td>\n",
       "      <td>1369699200</td>\n",
       "    </tr>\n",
       "    <tr>\n",
       "      <th>1</th>\n",
       "      <td>A3JM6GV9MNOF9X</td>\n",
       "      <td>0558925278</td>\n",
       "      <td>3.0</td>\n",
       "      <td>1355443200</td>\n",
       "    </tr>\n",
       "    <tr>\n",
       "      <th>2</th>\n",
       "      <td>A1Z513UWSAAO0F</td>\n",
       "      <td>0558925278</td>\n",
       "      <td>5.0</td>\n",
       "      <td>1404691200</td>\n",
       "    </tr>\n",
       "    <tr>\n",
       "      <th>3</th>\n",
       "      <td>A1WMRR494NWEWV</td>\n",
       "      <td>0733001998</td>\n",
       "      <td>4.0</td>\n",
       "      <td>1382572800</td>\n",
       "    </tr>\n",
       "    <tr>\n",
       "      <th>4</th>\n",
       "      <td>A3IAAVS479H7M7</td>\n",
       "      <td>0737104473</td>\n",
       "      <td>1.0</td>\n",
       "      <td>1274227200</td>\n",
       "    </tr>\n",
       "  </tbody>\n",
       "</table>\n",
       "</div>"
      ],
      "text/plain": [
       "           UserId   ProductId  Rating   Timestamp\n",
       "0  A39HTATAQ9V7YF  0205616461     5.0  1369699200\n",
       "1  A3JM6GV9MNOF9X  0558925278     3.0  1355443200\n",
       "2  A1Z513UWSAAO0F  0558925278     5.0  1404691200\n",
       "3  A1WMRR494NWEWV  0733001998     4.0  1382572800\n",
       "4  A3IAAVS479H7M7  0737104473     1.0  1274227200"
      ]
     },
     "execution_count": 48,
     "metadata": {},
     "output_type": "execute_result"
    }
   ],
   "source": [
    "amazon_ratings = pd.read_csv('ratings_Beauty.csv')\n",
    "amazon_ratings = amazon_ratings.dropna()\n",
    "amazon_ratings.head()"
   ]
  },
  {
   "cell_type": "code",
   "execution_count": 49,
   "metadata": {},
   "outputs": [
    {
     "data": {
      "text/plain": [
       "(2023070, 4)"
      ]
     },
     "execution_count": 49,
     "metadata": {},
     "output_type": "execute_result"
    }
   ],
   "source": [
    "amazon_ratings.shape"
   ]
  },
  {
   "cell_type": "code",
   "execution_count": 50,
   "metadata": {},
   "outputs": [
    {
     "data": {
      "text/html": [
       "<div>\n",
       "<style scoped>\n",
       "    .dataframe tbody tr th:only-of-type {\n",
       "        vertical-align: middle;\n",
       "    }\n",
       "\n",
       "    .dataframe tbody tr th {\n",
       "        vertical-align: top;\n",
       "    }\n",
       "\n",
       "    .dataframe thead th {\n",
       "        text-align: right;\n",
       "    }\n",
       "</style>\n",
       "<table border=\"1\" class=\"dataframe\">\n",
       "  <thead>\n",
       "    <tr style=\"text-align: right;\">\n",
       "      <th></th>\n",
       "      <th>Rating</th>\n",
       "    </tr>\n",
       "    <tr>\n",
       "      <th>ProductId</th>\n",
       "      <th></th>\n",
       "    </tr>\n",
       "  </thead>\n",
       "  <tbody>\n",
       "    <tr>\n",
       "      <th>B001MA0QY2</th>\n",
       "      <td>7533</td>\n",
       "    </tr>\n",
       "    <tr>\n",
       "      <th>B0009V1YR8</th>\n",
       "      <td>2869</td>\n",
       "    </tr>\n",
       "    <tr>\n",
       "      <th>B0043OYFKU</th>\n",
       "      <td>2477</td>\n",
       "    </tr>\n",
       "    <tr>\n",
       "      <th>B0000YUXI0</th>\n",
       "      <td>2143</td>\n",
       "    </tr>\n",
       "    <tr>\n",
       "      <th>B003V265QW</th>\n",
       "      <td>2088</td>\n",
       "    </tr>\n",
       "    <tr>\n",
       "      <th>B000ZMBSPE</th>\n",
       "      <td>2041</td>\n",
       "    </tr>\n",
       "    <tr>\n",
       "      <th>B003BQ6QXK</th>\n",
       "      <td>1918</td>\n",
       "    </tr>\n",
       "    <tr>\n",
       "      <th>B004OHQR1Q</th>\n",
       "      <td>1885</td>\n",
       "    </tr>\n",
       "    <tr>\n",
       "      <th>B00121UVU0</th>\n",
       "      <td>1838</td>\n",
       "    </tr>\n",
       "    <tr>\n",
       "      <th>B000FS05VG</th>\n",
       "      <td>1589</td>\n",
       "    </tr>\n",
       "  </tbody>\n",
       "</table>\n",
       "</div>"
      ],
      "text/plain": [
       "            Rating\n",
       "ProductId         \n",
       "B001MA0QY2    7533\n",
       "B0009V1YR8    2869\n",
       "B0043OYFKU    2477\n",
       "B0000YUXI0    2143\n",
       "B003V265QW    2088\n",
       "B000ZMBSPE    2041\n",
       "B003BQ6QXK    1918\n",
       "B004OHQR1Q    1885\n",
       "B00121UVU0    1838\n",
       "B000FS05VG    1589"
      ]
     },
     "execution_count": 50,
     "metadata": {},
     "output_type": "execute_result"
    }
   ],
   "source": [
    "popular_products = pd.DataFrame(amazon_ratings.groupby('ProductId')['Rating'].count())\n",
    "most_popular = popular_products.sort_values('Rating', ascending=False)\n",
    "most_popular.head(10)"
   ]
  },
  {
   "cell_type": "code",
   "execution_count": 51,
   "metadata": {},
   "outputs": [
    {
     "data": {
      "text/plain": [
       "<matplotlib.axes._subplots.AxesSubplot at 0x22fa5d86438>"
      ]
     },
     "execution_count": 51,
     "metadata": {},
     "output_type": "execute_result"
    },
    {
     "data": {
      "image/png": "[encoded data removed]",
      "text/plain": [
       "<Figure size 432x288 with 1 Axes>"
      ]
     },
     "metadata": {},
     "output_type": "display_data"
    }
   ],
   "source": [
    "most_popular.head(30).plot(kind = \"bar\")"
   ]
  },
  {
   "cell_type": "markdown",
   "metadata": {},
   "source": [
    "##### Analysis:\n",
    "\n",
    "The above graph gives us the most popular products (arranged in descending order) sold by the business.\n",
    "\n",
    "For eaxmple, product, ID # B001MA0QY2 has sales of over 7000, the next most popular product, ID # B0009V1YR8 has sales of  3000, etc.     "
   ]
  },
  {
   "cell_type": "markdown",
   "metadata": {},
   "source": [
    "## Recommendation System - Part II"
   ]
  },
  {
   "cell_type": "markdown",
   "metadata": {},
   "source": [
    "### Model-based collaborative filtering system\n",
    "\n",
    "Recommend items to users based on purchase history and similarity of ratings provided by other users who bought items to that of a particular customer."
   ]
  },
  {
   "cell_type": "markdown",
   "metadata": {},
   "source": [
    "A model based collaborative filtering technique is closen here as it helps in making predictinfg products for a particular user by identifying patterns based on preferences from multiple user data."
   ]
  },
  {
   "cell_type": "markdown",
   "metadata": {},
   "source": [
    "#### Utility Matrix based on products sold and user reviews"
   ]
  },
  {
   "cell_type": "markdown",
   "metadata": {},
   "source": [
    "Utility Matrix"
   ]
  },
  {
   "cell_type": "markdown",
   "metadata": {},
   "source": [
    "An utlity matrix is consists of all possible user-item preferences (ratings) details represented as a matrix. The utility matrix is sparce as none of the users would buy all teh items in the list, hence, most of the values are unknown."
   ]
  },
  {
   "cell_type": "code",
   "execution_count": 52,
   "metadata": {},
   "outputs": [],
   "source": [
    "# Subset of Amazon Ratings\n",
    "\n",
    "amazon_ratings1 = amazon_ratings.head(10000)"
   ]
  },
  {
   "cell_type": "code",
   "execution_count": 53,
   "metadata": {},
   "outputs": [
    {
     "data": {
      "text/html": [
       "<div>\n",
       "<style scoped>\n",
       "    .dataframe tbody tr th:only-of-type {\n",
       "        vertical-align: middle;\n",
       "    }\n",
       "\n",
       "    .dataframe tbody tr th {\n",
       "        vertical-align: top;\n",
       "    }\n",
       "\n",
       "    .dataframe thead th {\n",
       "        text-align: right;\n",
       "    }\n",
       "</style>\n",
       "<table border=\"1\" class=\"dataframe\">\n",
       "  <thead>\n",
       "    <tr style=\"text-align: right;\">\n",
       "      <th>ProductId</th>\n",
       "      <th>0205616461</th>\n",
       "      <th>0558925278</th>\n",
       "      <th>0733001998</th>\n",
       "      <th>0737104473</th>\n",
       "      <th>0762451459</th>\n",
       "      <th>1304139212</th>\n",
       "      <th>1304139220</th>\n",
       "      <th>130414089X</th>\n",
       "      <th>130414643X</th>\n",
       "      <th>1304146537</th>\n",
       "      <th>...</th>\n",
       "      <th>B000052YPE</th>\n",
       "      <th>B000052YPF</th>\n",
       "      <th>B000052YPG</th>\n",
       "      <th>B000052YPH</th>\n",
       "      <th>B000052YPM</th>\n",
       "      <th>B000052YPU</th>\n",
       "      <th>B000052YPV</th>\n",
       "      <th>B000052YPY</th>\n",
       "      <th>B000052YQ0</th>\n",
       "      <th>B000052YQ2</th>\n",
       "    </tr>\n",
       "    <tr>\n",
       "      <th>UserId</th>\n",
       "      <th></th>\n",
       "      <th></th>\n",
       "      <th></th>\n",
       "      <th></th>\n",
       "      <th></th>\n",
       "      <th></th>\n",
       "      <th></th>\n",
       "      <th></th>\n",
       "      <th></th>\n",
       "      <th></th>\n",
       "      <th></th>\n",
       "      <th></th>\n",
       "      <th></th>\n",
       "      <th></th>\n",
       "      <th></th>\n",
       "      <th></th>\n",
       "      <th></th>\n",
       "      <th></th>\n",
       "      <th></th>\n",
       "      <th></th>\n",
       "      <th></th>\n",
       "    </tr>\n",
       "  </thead>\n",
       "  <tbody>\n",
       "    <tr>\n",
       "      <th>A00205921JHJK5X9LNP42</th>\n",
       "      <td>0</td>\n",
       "      <td>0</td>\n",
       "      <td>0</td>\n",
       "      <td>0</td>\n",
       "      <td>0</td>\n",
       "      <td>0</td>\n",
       "      <td>0</td>\n",
       "      <td>0</td>\n",
       "      <td>0</td>\n",
       "      <td>0</td>\n",
       "      <td>...</td>\n",
       "      <td>0</td>\n",
       "      <td>0</td>\n",
       "      <td>0</td>\n",
       "      <td>0</td>\n",
       "      <td>0</td>\n",
       "      <td>0</td>\n",
       "      <td>0</td>\n",
       "      <td>0</td>\n",
       "      <td>0</td>\n",
       "      <td>0</td>\n",
       "    </tr>\n",
       "    <tr>\n",
       "      <th>A024581134CV80ZBLIZTZ</th>\n",
       "      <td>0</td>\n",
       "      <td>0</td>\n",
       "      <td>0</td>\n",
       "      <td>0</td>\n",
       "      <td>0</td>\n",
       "      <td>0</td>\n",
       "      <td>0</td>\n",
       "      <td>0</td>\n",
       "      <td>0</td>\n",
       "      <td>0</td>\n",
       "      <td>...</td>\n",
       "      <td>0</td>\n",
       "      <td>0</td>\n",
       "      <td>0</td>\n",
       "      <td>0</td>\n",
       "      <td>0</td>\n",
       "      <td>0</td>\n",
       "      <td>0</td>\n",
       "      <td>0</td>\n",
       "      <td>0</td>\n",
       "      <td>0</td>\n",
       "    </tr>\n",
       "    <tr>\n",
       "      <th>A03056581JJIOL5FSKJY7</th>\n",
       "      <td>0</td>\n",
       "      <td>0</td>\n",
       "      <td>0</td>\n",
       "      <td>0</td>\n",
       "      <td>0</td>\n",
       "      <td>0</td>\n",
       "      <td>0</td>\n",
       "      <td>0</td>\n",
       "      <td>0</td>\n",
       "      <td>0</td>\n",
       "      <td>...</td>\n",
       "      <td>0</td>\n",
       "      <td>0</td>\n",
       "      <td>0</td>\n",
       "      <td>0</td>\n",
       "      <td>0</td>\n",
       "      <td>0</td>\n",
       "      <td>0</td>\n",
       "      <td>0</td>\n",
       "      <td>0</td>\n",
       "      <td>0</td>\n",
       "    </tr>\n",
       "    <tr>\n",
       "      <th>A03099101ZRK4K607JVHH</th>\n",
       "      <td>0</td>\n",
       "      <td>0</td>\n",
       "      <td>0</td>\n",
       "      <td>0</td>\n",
       "      <td>0</td>\n",
       "      <td>0</td>\n",
       "      <td>0</td>\n",
       "      <td>0</td>\n",
       "      <td>0</td>\n",
       "      <td>0</td>\n",
       "      <td>...</td>\n",
       "      <td>0</td>\n",
       "      <td>0</td>\n",
       "      <td>0</td>\n",
       "      <td>0</td>\n",
       "      <td>0</td>\n",
       "      <td>0</td>\n",
       "      <td>0</td>\n",
       "      <td>0</td>\n",
       "      <td>0</td>\n",
       "      <td>0</td>\n",
       "    </tr>\n",
       "    <tr>\n",
       "      <th>A0505229A7NSH3FRXRR4</th>\n",
       "      <td>0</td>\n",
       "      <td>0</td>\n",
       "      <td>0</td>\n",
       "      <td>0</td>\n",
       "      <td>0</td>\n",
       "      <td>0</td>\n",
       "      <td>0</td>\n",
       "      <td>0</td>\n",
       "      <td>0</td>\n",
       "      <td>0</td>\n",
       "      <td>...</td>\n",
       "      <td>0</td>\n",
       "      <td>0</td>\n",
       "      <td>0</td>\n",
       "      <td>0</td>\n",
       "      <td>0</td>\n",
       "      <td>0</td>\n",
       "      <td>0</td>\n",
       "      <td>0</td>\n",
       "      <td>0</td>\n",
       "      <td>0</td>\n",
       "    </tr>\n",
       "  </tbody>\n",
       "</table>\n",
       "<p>5 rows × 886 columns</p>\n",
       "</div>"
      ],
      "text/plain": [
       "ProductId              0205616461  0558925278  0733001998  0737104473  \\\n",
       "UserId                                                                  \n",
       "A00205921JHJK5X9LNP42           0           0           0           0   \n",
       "A024581134CV80ZBLIZTZ           0           0           0           0   \n",
       "A03056581JJIOL5FSKJY7           0           0           0           0   \n",
       "A03099101ZRK4K607JVHH           0           0           0           0   \n",
       "A0505229A7NSH3FRXRR4            0           0           0           0   \n",
       "\n",
       "ProductId              0762451459  1304139212  1304139220  130414089X  \\\n",
       "UserId                                                                  \n",
       "A00205921JHJK5X9LNP42           0           0           0           0   \n",
       "A024581134CV80ZBLIZTZ           0           0           0           0   \n",
       "A03056581JJIOL5FSKJY7           0           0           0           0   \n",
       "A03099101ZRK4K607JVHH           0           0           0           0   \n",
       "A0505229A7NSH3FRXRR4            0           0           0           0   \n",
       "\n",
       "ProductId              130414643X  1304146537     ...      B000052YPE  \\\n",
       "UserId                                            ...                   \n",
       "A00205921JHJK5X9LNP42           0           0     ...               0   \n",
       "A024581134CV80ZBLIZTZ           0           0     ...               0   \n",
       "A03056581JJIOL5FSKJY7           0           0     ...               0   \n",
       "A03099101ZRK4K607JVHH           0           0     ...               0   \n",
       "A0505229A7NSH3FRXRR4            0           0     ...               0   \n",
       "\n",
       "ProductId              B000052YPF  B000052YPG  B000052YPH  B000052YPM  \\\n",
       "UserId                                                                  \n",
       "A00205921JHJK5X9LNP42           0           0           0           0   \n",
       "A024581134CV80ZBLIZTZ           0           0           0           0   \n",
       "A03056581JJIOL5FSKJY7           0           0           0           0   \n",
       "A03099101ZRK4K607JVHH           0           0           0           0   \n",
       "A0505229A7NSH3FRXRR4            0           0           0           0   \n",
       "\n",
       "ProductId              B000052YPU  B000052YPV  B000052YPY  B000052YQ0  \\\n",
       "UserId                                                                  \n",
       "A00205921JHJK5X9LNP42           0           0           0           0   \n",
       "A024581134CV80ZBLIZTZ           0           0           0           0   \n",
       "A03056581JJIOL5FSKJY7           0           0           0           0   \n",
       "A03099101ZRK4K607JVHH           0           0           0           0   \n",
       "A0505229A7NSH3FRXRR4            0           0           0           0   \n",
       "\n",
       "ProductId              B000052YQ2  \n",
       "UserId                             \n",
       "A00205921JHJK5X9LNP42           0  \n",
       "A024581134CV80ZBLIZTZ           0  \n",
       "A03056581JJIOL5FSKJY7           0  \n",
       "A03099101ZRK4K607JVHH           0  \n",
       "A0505229A7NSH3FRXRR4            0  \n",
       "\n",
       "[5 rows x 886 columns]"
      ]
     },
     "execution_count": 53,
     "metadata": {},
     "output_type": "execute_result"
    }
   ],
   "source": [
    "ratings_utility_matrix = amazon_ratings1.pivot_table(values='Rating', index='UserId', columns='ProductId', fill_value=0)\n",
    "ratings_utility_matrix.head()"
   ]
  },
  {
   "cell_type": "markdown",
   "metadata": {},
   "source": [
    "As expected, the utility matrix obtaned above is sparce, I have filled up the unknown values wth 0."
   ]
  },
  {
   "cell_type": "code",
   "execution_count": 54,
   "metadata": {},
   "outputs": [
    {
     "data": {
      "text/plain": [
       "(9697, 886)"
      ]
     },
     "execution_count": 54,
     "metadata": {},
     "output_type": "execute_result"
    }
   ],
   "source": [
    "ratings_utility_matrix.shape"
   ]
  },
  {
   "cell_type": "markdown",
   "metadata": {},
   "source": [
    "Transposing the matrix"
   ]
  },
  {
   "cell_type": "code",
   "execution_count": 55,
   "metadata": {},
   "outputs": [
    {
     "data": {
      "text/html": [
       "<div>\n",
       "<style scoped>\n",
       "    .dataframe tbody tr th:only-of-type {\n",
       "        vertical-align: middle;\n",
       "    }\n",
       "\n",
       "    .dataframe tbody tr th {\n",
       "        vertical-align: top;\n",
       "    }\n",
       "\n",
       "    .dataframe thead th {\n",
       "        text-align: right;\n",
       "    }\n",
       "</style>\n",
       "<table border=\"1\" class=\"dataframe\">\n",
       "  <thead>\n",
       "    <tr style=\"text-align: right;\">\n",
       "      <th>UserId</th>\n",
       "      <th>A00205921JHJK5X9LNP42</th>\n",
       "      <th>A024581134CV80ZBLIZTZ</th>\n",
       "      <th>A03056581JJIOL5FSKJY7</th>\n",
       "      <th>A03099101ZRK4K607JVHH</th>\n",
       "      <th>A0505229A7NSH3FRXRR4</th>\n",
       "      <th>A05492663T95KW63BR75K</th>\n",
       "      <th>A059547920Q3LZVFHLPI3</th>\n",
       "      <th>A07410232KYRFR25CIUGJ</th>\n",
       "      <th>A082796624UNM47DSAI6K</th>\n",
       "      <th>A0864963DOAY7LXGS5I6</th>\n",
       "      <th>...</th>\n",
       "      <th>AZW1HXXYAC15B</th>\n",
       "      <th>AZWRTJPN7NXT</th>\n",
       "      <th>AZWTXHXZXFAYP</th>\n",
       "      <th>AZYQEFB9Y5N22</th>\n",
       "      <th>AZZHB6U54UDYW</th>\n",
       "      <th>AZZHJZP4GQPPZ</th>\n",
       "      <th>AZZNK89PXD006</th>\n",
       "      <th>AZZOFVMQC0BJG</th>\n",
       "      <th>AZZQXL8VDCFTV</th>\n",
       "      <th>AZZTJQ7CQZUD8</th>\n",
       "    </tr>\n",
       "    <tr>\n",
       "      <th>ProductId</th>\n",
       "      <th></th>\n",
       "      <th></th>\n",
       "      <th></th>\n",
       "      <th></th>\n",
       "      <th></th>\n",
       "      <th></th>\n",
       "      <th></th>\n",
       "      <th></th>\n",
       "      <th></th>\n",
       "      <th></th>\n",
       "      <th></th>\n",
       "      <th></th>\n",
       "      <th></th>\n",
       "      <th></th>\n",
       "      <th></th>\n",
       "      <th></th>\n",
       "      <th></th>\n",
       "      <th></th>\n",
       "      <th></th>\n",
       "      <th></th>\n",
       "      <th></th>\n",
       "    </tr>\n",
       "  </thead>\n",
       "  <tbody>\n",
       "    <tr>\n",
       "      <th>0205616461</th>\n",
       "      <td>0</td>\n",
       "      <td>0</td>\n",
       "      <td>0</td>\n",
       "      <td>0</td>\n",
       "      <td>0</td>\n",
       "      <td>0</td>\n",
       "      <td>0</td>\n",
       "      <td>0</td>\n",
       "      <td>0</td>\n",
       "      <td>0</td>\n",
       "      <td>...</td>\n",
       "      <td>0</td>\n",
       "      <td>0</td>\n",
       "      <td>0</td>\n",
       "      <td>0</td>\n",
       "      <td>0</td>\n",
       "      <td>0</td>\n",
       "      <td>0</td>\n",
       "      <td>0</td>\n",
       "      <td>0</td>\n",
       "      <td>0</td>\n",
       "    </tr>\n",
       "    <tr>\n",
       "      <th>0558925278</th>\n",
       "      <td>0</td>\n",
       "      <td>0</td>\n",
       "      <td>0</td>\n",
       "      <td>0</td>\n",
       "      <td>0</td>\n",
       "      <td>0</td>\n",
       "      <td>0</td>\n",
       "      <td>0</td>\n",
       "      <td>0</td>\n",
       "      <td>0</td>\n",
       "      <td>...</td>\n",
       "      <td>0</td>\n",
       "      <td>0</td>\n",
       "      <td>0</td>\n",
       "      <td>0</td>\n",
       "      <td>0</td>\n",
       "      <td>0</td>\n",
       "      <td>0</td>\n",
       "      <td>0</td>\n",
       "      <td>0</td>\n",
       "      <td>0</td>\n",
       "    </tr>\n",
       "    <tr>\n",
       "      <th>0733001998</th>\n",
       "      <td>0</td>\n",
       "      <td>0</td>\n",
       "      <td>0</td>\n",
       "      <td>0</td>\n",
       "      <td>0</td>\n",
       "      <td>0</td>\n",
       "      <td>0</td>\n",
       "      <td>0</td>\n",
       "      <td>0</td>\n",
       "      <td>0</td>\n",
       "      <td>...</td>\n",
       "      <td>0</td>\n",
       "      <td>0</td>\n",
       "      <td>0</td>\n",
       "      <td>0</td>\n",
       "      <td>0</td>\n",
       "      <td>0</td>\n",
       "      <td>0</td>\n",
       "      <td>0</td>\n",
       "      <td>0</td>\n",
       "      <td>0</td>\n",
       "    </tr>\n",
       "    <tr>\n",
       "      <th>0737104473</th>\n",
       "      <td>0</td>\n",
       "      <td>0</td>\n",
       "      <td>0</td>\n",
       "      <td>0</td>\n",
       "      <td>0</td>\n",
       "      <td>0</td>\n",
       "      <td>0</td>\n",
       "      <td>0</td>\n",
       "      <td>0</td>\n",
       "      <td>0</td>\n",
       "      <td>...</td>\n",
       "      <td>0</td>\n",
       "      <td>0</td>\n",
       "      <td>0</td>\n",
       "      <td>0</td>\n",
       "      <td>0</td>\n",
       "      <td>0</td>\n",
       "      <td>0</td>\n",
       "      <td>0</td>\n",
       "      <td>0</td>\n",
       "      <td>0</td>\n",
       "    </tr>\n",
       "    <tr>\n",
       "      <th>0762451459</th>\n",
       "      <td>0</td>\n",
       "      <td>0</td>\n",
       "      <td>0</td>\n",
       "      <td>0</td>\n",
       "      <td>0</td>\n",
       "      <td>0</td>\n",
       "      <td>0</td>\n",
       "      <td>0</td>\n",
       "      <td>0</td>\n",
       "      <td>0</td>\n",
       "      <td>...</td>\n",
       "      <td>0</td>\n",
       "      <td>0</td>\n",
       "      <td>0</td>\n",
       "      <td>0</td>\n",
       "      <td>0</td>\n",
       "      <td>0</td>\n",
       "      <td>0</td>\n",
       "      <td>0</td>\n",
       "      <td>0</td>\n",
       "      <td>0</td>\n",
       "    </tr>\n",
       "  </tbody>\n",
       "</table>\n",
       "<p>5 rows × 9697 columns</p>\n",
       "</div>"
      ],
      "text/plain": [
       "UserId      A00205921JHJK5X9LNP42  A024581134CV80ZBLIZTZ  \\\n",
       "ProductId                                                  \n",
       "0205616461                      0                      0   \n",
       "0558925278                      0                      0   \n",
       "0733001998                      0                      0   \n",
       "0737104473                      0                      0   \n",
       "0762451459                      0                      0   \n",
       "\n",
       "UserId      A03056581JJIOL5FSKJY7  A03099101ZRK4K607JVHH  \\\n",
       "ProductId                                                  \n",
       "0205616461                      0                      0   \n",
       "0558925278                      0                      0   \n",
       "0733001998                      0                      0   \n",
       "0737104473                      0                      0   \n",
       "0762451459                      0                      0   \n",
       "\n",
       "UserId      A0505229A7NSH3FRXRR4  A05492663T95KW63BR75K  \\\n",
       "ProductId                                                 \n",
       "0205616461                     0                      0   \n",
       "0558925278                     0                      0   \n",
       "0733001998                     0                      0   \n",
       "0737104473                     0                      0   \n",
       "0762451459                     0                      0   \n",
       "\n",
       "UserId      A059547920Q3LZVFHLPI3  A07410232KYRFR25CIUGJ  \\\n",
       "ProductId                                                  \n",
       "0205616461                      0                      0   \n",
       "0558925278                      0                      0   \n",
       "0733001998                      0                      0   \n",
       "0737104473                      0                      0   \n",
       "0762451459                      0                      0   \n",
       "\n",
       "UserId      A082796624UNM47DSAI6K  A0864963DOAY7LXGS5I6      ...        \\\n",
       "ProductId                                                    ...         \n",
       "0205616461                      0                     0      ...         \n",
       "0558925278                      0                     0      ...         \n",
       "0733001998                      0                     0      ...         \n",
       "0737104473                      0                     0      ...         \n",
       "0762451459                      0                     0      ...         \n",
       "\n",
       "UserId      AZW1HXXYAC15B  AZWRTJPN7NXT  AZWTXHXZXFAYP  AZYQEFB9Y5N22  \\\n",
       "ProductId                                                               \n",
       "0205616461              0             0              0              0   \n",
       "0558925278              0             0              0              0   \n",
       "0733001998              0             0              0              0   \n",
       "0737104473              0             0              0              0   \n",
       "0762451459              0             0              0              0   \n",
       "\n",
       "UserId      AZZHB6U54UDYW  AZZHJZP4GQPPZ  AZZNK89PXD006  AZZOFVMQC0BJG  \\\n",
       "ProductId                                                                \n",
       "0205616461              0              0              0              0   \n",
       "0558925278              0              0              0              0   \n",
       "0733001998              0              0              0              0   \n",
       "0737104473              0              0              0              0   \n",
       "0762451459              0              0              0              0   \n",
       "\n",
       "UserId      AZZQXL8VDCFTV  AZZTJQ7CQZUD8  \n",
       "ProductId                                 \n",
       "0205616461              0              0  \n",
       "0558925278              0              0  \n",
       "0733001998              0              0  \n",
       "0737104473              0              0  \n",
       "0762451459              0              0  \n",
       "\n",
       "[5 rows x 9697 columns]"
      ]
     },
     "execution_count": 55,
     "metadata": {},
     "output_type": "execute_result"
    }
   ],
   "source": [
    "X = ratings_utility_matrix.T\n",
    "X.head()"
   ]
  },
  {
   "cell_type": "code",
   "execution_count": 56,
   "metadata": {},
   "outputs": [
    {
     "data": {
      "text/plain": [
       "(886, 9697)"
      ]
     },
     "execution_count": 56,
     "metadata": {},
     "output_type": "execute_result"
    }
   ],
   "source": [
    "X.shape"
   ]
  },
  {
   "cell_type": "markdown",
   "metadata": {},
   "source": [
    "Unique products in subset of data"
   ]
  },
  {
   "cell_type": "code",
   "execution_count": 57,
   "metadata": {},
   "outputs": [],
   "source": [
    "X1 = X"
   ]
  },
  {
   "cell_type": "markdown",
   "metadata": {},
   "source": [
    "### Decomposing the Matrix"
   ]
  },
  {
   "cell_type": "code",
   "execution_count": 58,
   "metadata": {},
   "outputs": [
    {
     "data": {
      "text/plain": [
       "(886, 10)"
      ]
     },
     "execution_count": 58,
     "metadata": {},
     "output_type": "execute_result"
    }
   ],
   "source": [
    "SVD = TruncatedSVD(n_components=10)\n",
    "decomposed_matrix = SVD.fit_transform(X)\n",
    "decomposed_matrix.shape"
   ]
  },
  {
   "cell_type": "markdown",
   "metadata": {},
   "source": [
    "### Correlation Matrix"
   ]
  },
  {
   "cell_type": "code",
   "execution_count": 59,
   "metadata": {},
   "outputs": [
    {
     "data": {
      "text/plain": [
       "(886, 886)"
      ]
     },
     "execution_count": 59,
     "metadata": {},
     "output_type": "execute_result"
    }
   ],
   "source": [
    "correlation_matrix = np.corrcoef(decomposed_matrix)\n",
    "correlation_matrix.shape"
   ]
  },
  {
   "cell_type": "markdown",
   "metadata": {},
   "source": [
    "correlation_matrix"
   ]
  },
  {
   "cell_type": "markdown",
   "metadata": {},
   "source": [
    "### Isolating Product ID # 6117036094 from the Correlation Matrix\n",
    "\n",
    "Assuming the customer buys Product ID # 6117036094 (randomly chosen)"
   ]
  },
  {
   "cell_type": "code",
   "execution_count": 60,
   "metadata": {
    "scrolled": true
   },
   "outputs": [
    {
     "data": {
      "text/plain": [
       "'6117036094'"
      ]
     },
     "execution_count": 60,
     "metadata": {},
     "output_type": "execute_result"
    }
   ],
   "source": [
    "X.index[99]"
   ]
  },
  {
   "cell_type": "markdown",
   "metadata": {},
   "source": [
    "Index # of product ID purchased by customer"
   ]
  },
  {
   "cell_type": "code",
   "execution_count": 61,
   "metadata": {},
   "outputs": [
    {
     "data": {
      "text/plain": [
       "99"
      ]
     },
     "execution_count": 61,
     "metadata": {},
     "output_type": "execute_result"
    }
   ],
   "source": [
    "i = \"6117036094\"\n",
    "\n",
    "product_names = list(X.index)\n",
    "product_ID = product_names.index(i)\n",
    "product_ID"
   ]
  },
  {
   "cell_type": "markdown",
   "metadata": {},
   "source": [
    "Correlation for all items with the item purchased by this customer based on items rated by other customers people who bought the same product"
   ]
  },
  {
   "cell_type": "code",
   "execution_count": 62,
   "metadata": {},
   "outputs": [
    {
     "data": {
      "text/plain": [
       "(886,)"
      ]
     },
     "execution_count": 62,
     "metadata": {},
     "output_type": "execute_result"
    }
   ],
   "source": [
    "correlation_product_ID = correlation_matrix[product_ID]\n",
    "correlation_product_ID.shape"
   ]
  },
  {
   "cell_type": "markdown",
   "metadata": {},
   "source": [
    "### Recommending top 10 highly correlated products in sequence"
   ]
  },
  {
   "cell_type": "code",
   "execution_count": 78,
   "metadata": {},
   "outputs": [
    {
     "data": {
      "text/plain": [
       "['8997092219',\n",
       " '9748668525',\n",
       " '9788072895',\n",
       " '9790772238',\n",
       " '9790778740',\n",
       " '9790779925',\n",
       " '9790786069',\n",
       " '9790786557',\n",
       " '9790793014']"
      ]
     },
     "execution_count": 78,
     "metadata": {},
     "output_type": "execute_result"
    }
   ],
   "source": [
    "Recommend = list(X.index[correlation_product_ID > 0.90])\n",
    "\n",
    "# Removes the item already bought by the customer\n",
    "Recommend.remove(i) \n",
    "\n",
    "Recommend[0:9]"
   ]
  },
  {
   "cell_type": "markdown",
   "metadata": {},
   "source": [
    "Product Id #"
   ]
  },
  {
   "cell_type": "markdown",
   "metadata": {},
   "source": [
    "Here are the top 10 products to be displayed by the recommendation system to the above customer based on the purchase history of other customers in the website. "
   ]
  },
  {
   "cell_type": "markdown",
   "metadata": {},
   "source": [
    "## Recommendation System - Part III"
   ]
  },
  {
   "cell_type": "markdown",
   "metadata": {},
   "source": [
    "For a business without any user-item purchase history, a search engine based recommendation system can be designed for users. The product recommendations can be based on textual clustering analysis given in product description."
   ]
  },
  {
   "cell_type": "code",
   "execution_count": 18,
   "metadata": {},
   "outputs": [],
   "source": [
    "# Importing libraries\n",
    "\n",
    "from sklearn.feature_extraction.text import TfidfVectorizer, CountVectorizer\n",
    "from sklearn.neighbors import NearestNeighbors\n",
    "from sklearn.cluster import KMeans\n",
    "from sklearn.metrics import adjusted_rand_score"
   ]
  },
  {
   "cell_type": "markdown",
   "metadata": {},
   "source": [
    "## Home Depot's dataset with product dataset:\n",
    "\n",
    "https://www.kaggle.com/c/home-depot-product-search-relevance/data"
   ]
  },
  {
   "cell_type": "markdown",
   "metadata": {},
   "source": [
    "### Item to item based recommendation system based on product description\n",
    "\n",
    "Applicable when business is setting up its E-commerce website for the first time"
   ]
  },
  {
   "cell_type": "code",
   "execution_count": 19,
   "metadata": {},
   "outputs": [
    {
     "data": {
      "text/plain": [
       "(124428, 2)"
      ]
     },
     "execution_count": 19,
     "metadata": {},
     "output_type": "execute_result"
    }
   ],
   "source": [
    "product_descriptions = pd.read_csv('product_descriptions.csv')\n",
    "product_descriptions.shape"
   ]
  },
  {
   "cell_type": "markdown",
   "metadata": {},
   "source": [
    "#### Checking for missing values"
   ]
  },
  {
   "cell_type": "code",
   "execution_count": 20,
   "metadata": {},
   "outputs": [
    {
     "data": {
      "text/html": [
       "<div>\n",
       "<style scoped>\n",
       "    .dataframe tbody tr th:only-of-type {\n",
       "        vertical-align: middle;\n",
       "    }\n",
       "\n",
       "    .dataframe tbody tr th {\n",
       "        vertical-align: top;\n",
       "    }\n",
       "\n",
       "    .dataframe thead th {\n",
       "        text-align: right;\n",
       "    }\n",
       "</style>\n",
       "<table border=\"1\" class=\"dataframe\">\n",
       "  <thead>\n",
       "    <tr style=\"text-align: right;\">\n",
       "      <th></th>\n",
       "      <th>product_uid</th>\n",
       "      <th>product_description</th>\n",
       "    </tr>\n",
       "  </thead>\n",
       "  <tbody>\n",
       "    <tr>\n",
       "      <th>0</th>\n",
       "      <td>100001</td>\n",
       "      <td>Not only do angles make joints stronger, they ...</td>\n",
       "    </tr>\n",
       "    <tr>\n",
       "      <th>1</th>\n",
       "      <td>100002</td>\n",
       "      <td>BEHR Premium Textured DECKOVER is an innovativ...</td>\n",
       "    </tr>\n",
       "    <tr>\n",
       "      <th>2</th>\n",
       "      <td>100003</td>\n",
       "      <td>Classic architecture meets contemporary design...</td>\n",
       "    </tr>\n",
       "    <tr>\n",
       "      <th>3</th>\n",
       "      <td>100004</td>\n",
       "      <td>The Grape Solar 265-Watt Polycrystalline PV So...</td>\n",
       "    </tr>\n",
       "    <tr>\n",
       "      <th>4</th>\n",
       "      <td>100005</td>\n",
       "      <td>Update your bathroom with the Delta Vero Singl...</td>\n",
       "    </tr>\n",
       "  </tbody>\n",
       "</table>\n",
       "</div>"
      ],
      "text/plain": [
       "   product_uid                                product_description\n",
       "0       100001  Not only do angles make joints stronger, they ...\n",
       "1       100002  BEHR Premium Textured DECKOVER is an innovativ...\n",
       "2       100003  Classic architecture meets contemporary design...\n",
       "3       100004  The Grape Solar 265-Watt Polycrystalline PV So...\n",
       "4       100005  Update your bathroom with the Delta Vero Singl..."
      ]
     },
     "execution_count": 20,
     "metadata": {},
     "output_type": "execute_result"
    }
   ],
   "source": [
    "# Missing values\n",
    "\n",
    "product_descriptions = product_descriptions.dropna()\n",
    "product_descriptions.shape\n",
    "product_descriptions.head()"
   ]
  },
  {
   "cell_type": "code",
   "execution_count": 21,
   "metadata": {},
   "outputs": [
    {
     "data": {
      "text/plain": [
       "0    Not only do angles make joints stronger, they ...\n",
       "1    BEHR Premium Textured DECKOVER is an innovativ...\n",
       "2    Classic architecture meets contemporary design...\n",
       "3    The Grape Solar 265-Watt Polycrystalline PV So...\n",
       "4    Update your bathroom with the Delta Vero Singl...\n",
       "5    Achieving delicious results is almost effortle...\n",
       "6    The Quantum Adjustable 2-Light LED Black Emerg...\n",
       "7    The Teks #10 x 1-1/2 in. Zinc-Plated Steel Was...\n",
       "8    Get the House of Fara 3/4 in. x 3 in. x 8 ft. ...\n",
       "9    Valley View Industries Metal Stakes (4-Pack) a...\n",
       "Name: product_description, dtype: object"
      ]
     },
     "execution_count": 21,
     "metadata": {},
     "output_type": "execute_result"
    }
   ],
   "source": [
    "product_descriptions1 = product_descriptions.head(500)\n",
    "# product_descriptions1.iloc[:,1]\n",
    "\n",
    "product_descriptions1[\"product_description\"].head(10)"
   ]
  },
  {
   "cell_type": "markdown",
   "metadata": {},
   "source": [
    "#### Feature extraction from product descriptions\n",
    "\n",
    "Converting the text in product description into numerical data for analysis"
   ]
  },
  {
   "cell_type": "code",
   "execution_count": 22,
   "metadata": {},
   "outputs": [
    {
     "data": {
      "text/plain": [
       "<500x8932 sparse matrix of type '<class 'numpy.float64'>'\n",
       "\twith 34817 stored elements in Compressed Sparse Row format>"
      ]
     },
     "execution_count": 22,
     "metadata": {},
     "output_type": "execute_result"
    }
   ],
   "source": [
    "vectorizer = TfidfVectorizer(stop_words='english')\n",
    "X1 = vectorizer.fit_transform(product_descriptions1[\"product_description\"])\n",
    "X1"
   ]
  },
  {
   "cell_type": "markdown",
   "metadata": {},
   "source": [
    "#### Visualizing product clusters in subset of data"
   ]
  },
  {
   "cell_type": "code",
   "execution_count": 23,
   "metadata": {},
   "outputs": [
    {
     "data": {
      "image/png": "[encoded data removed]",
      "text/plain": [
       "<Figure size 432x288 with 1 Axes>"
      ]
     },
     "metadata": {
      "needs_background": "light"
     },
     "output_type": "display_data"
    }
   ],
   "source": [
    "# Fitting K-Means to the dataset\n",
    "\n",
    "X=X1\n",
    "\n",
    "kmeans = KMeans(n_clusters = 10, init = 'k-means++')\n",
    "y_kmeans = kmeans.fit_predict(X)\n",
    "plt.plot(y_kmeans, \".\")\n",
    "plt.show()\n"
   ]
  },
  {
   "cell_type": "markdown",
   "metadata": {},
   "source": [
    "#### Top words in each cluster based on product description"
   ]
  },
  {
   "cell_type": "code",
   "execution_count": 24,
   "metadata": {},
   "outputs": [
    {
     "name": "stdout",
     "output_type": "stream",
     "text": [
      "Top terms per cluster:\n",
      "Cluster 0:\n",
      " water\n",
      " toilet\n",
      " tank\n",
      " bowl\n",
      " gal\n",
      " flush\n",
      " easy\n",
      " piece\n",
      " heater\n",
      " clean\n",
      "Cluster 1:\n",
      " light\n",
      " watt\n",
      " volt\n",
      " led\n",
      " power\n",
      " fan\n",
      " bulb\n",
      " bulbs\n",
      " lighting\n",
      " home\n",
      "Cluster 2:\n",
      " painted\n",
      " wood\n",
      " insulation\n",
      " ft\n",
      " primed\n",
      " 65\n",
      " proposition\n",
      " nbsp\n",
      " residents\n",
      " california\n",
      "Cluster 3:\n",
      " water\n",
      " concrete\n",
      " use\n",
      " ft\n",
      " metal\n",
      " used\n",
      " provides\n",
      " designed\n",
      " high\n",
      " fiberglass\n",
      "Cluster 4:\n",
      " patio\n",
      " frame\n",
      " steel\n",
      " collection\n",
      " fabric\n",
      " available\n",
      " outdoor\n",
      " dining\n",
      " style\n",
      " furniture\n",
      "Cluster 5:\n",
      " storage\n",
      " lbs\n",
      " cooking\n",
      " shelves\n",
      " easy\n",
      " cycle\n",
      " commercial\n",
      " floor\n",
      " use\n",
      " installation\n",
      "Cluster 6:\n",
      " door\n",
      " nickel\n",
      " easy\n",
      " design\n",
      " wood\n",
      " cabinet\n",
      " features\n",
      " install\n",
      " helps\n",
      " proposition\n",
      "Cluster 7:\n",
      " air\n",
      " snow\n",
      " power\n",
      " cooling\n",
      " ft\n",
      " speed\n",
      " control\n",
      " blower\n",
      " unit\n",
      " engine\n",
      "Cluster 8:\n",
      " paint\n",
      " metal\n",
      " screw\n",
      " drill\n",
      " hole\n",
      " screws\n",
      " azek\n",
      " tool\n",
      " trim\n",
      " storage\n",
      "Cluster 9:\n",
      " post\n",
      " rug\n",
      " fence\n",
      " vary\n",
      " landscape\n",
      " slightly\n",
      " recycled\n",
      " product\n",
      " plastic\n",
      " easy\n"
     ]
    }
   ],
   "source": [
    "# # Optimal clusters is \n",
    "\n",
    "true_k = 10\n",
    "\n",
    "model = KMeans(n_clusters=true_k, init='k-means++', max_iter=100, n_init=1)\n",
    "model.fit(X1)\n",
    "\n",
    "print(\"Top terms per cluster:\")\n",
    "order_centroids = model.cluster_centers_.argsort()[:, ::-1]\n",
    "terms = vectorizer.get_feature_names()\n",
    "for i in range(true_k):\n",
    "    print(\"Cluster %d:\" % i),\n",
    "    for ind in order_centroids[i, :10]:\n",
    "        print(' %s' % terms[ind]),\n",
    "    print\n",
    "\n"
   ]
  },
  {
   "cell_type": "markdown",
   "metadata": {},
   "source": [
    "#### Predicting clusters based on key search words"
   ]
  },
  {
   "cell_type": "markdown",
   "metadata": {},
   "source": [
    "cutting tool"
   ]
  },
  {
   "cell_type": "code",
   "execution_count": 25,
   "metadata": {},
   "outputs": [
    {
     "name": "stdout",
     "output_type": "stream",
     "text": [
      "Cluster ID:\n",
      "[8]\n"
     ]
    }
   ],
   "source": [
    "print(\"Cluster ID:\")\n",
    "Y = vectorizer.transform([\"cutting tool\"])\n",
    "prediction = model.predict(Y)\n",
    "print(prediction)"
   ]
  },
  {
   "cell_type": "markdown",
   "metadata": {},
   "source": [
    "spray paint"
   ]
  },
  {
   "cell_type": "code",
   "execution_count": 26,
   "metadata": {},
   "outputs": [
    {
     "name": "stdout",
     "output_type": "stream",
     "text": [
      "Cluster ID:\n",
      "[8]\n"
     ]
    }
   ],
   "source": [
    "print(\"Cluster ID:\")\n",
    "Y = vectorizer.transform([\"spray paint\"])\n",
    "prediction = model.predict(Y)\n",
    "print(prediction)"
   ]
  },
  {
   "cell_type": "markdown",
   "metadata": {},
   "source": [
    "steel drill"
   ]
  },
  {
   "cell_type": "code",
   "execution_count": 27,
   "metadata": {},
   "outputs": [
    {
     "name": "stdout",
     "output_type": "stream",
     "text": [
      "Cluster ID:\n",
      "[8]\n"
     ]
    }
   ],
   "source": [
    "print(\"Cluster ID:\")\n",
    "Y = vectorizer.transform([\"steel drill\"])\n",
    "prediction = model.predict(Y)\n",
    "print(prediction)"
   ]
  },
  {
   "cell_type": "markdown",
   "metadata": {},
   "source": [
    "In case a word appears in multiple clusters, the algorithm chooses the cluster with the highest frequency of occurance of the word."
   ]
  },
  {
   "cell_type": "markdown",
   "metadata": {},
   "source": [
    "water"
   ]
  },
  {
   "cell_type": "code",
   "execution_count": 28,
   "metadata": {
    "scrolled": true
   },
   "outputs": [
    {
     "name": "stdout",
     "output_type": "stream",
     "text": [
      "Cluster ID:\n",
      "[0]\n"
     ]
    }
   ],
   "source": [
    "print(\"Cluster ID:\")\n",
    "Y = vectorizer.transform([\"water\"])\n",
    "prediction = model.predict(Y)\n",
    "print(prediction)"
   ]
  },
  {
   "cell_type": "markdown",
   "metadata": {},
   "source": [
    "Once a cluster is identified based on the user's search words, the recommendation system can display items from the corresponding product clusters based on the product descriptions."
   ]
  },
  {
   "cell_type": "markdown",
   "metadata": {},
   "source": [
    "#### Summary: \n",
    "\n",
    "This works best if a business is setting up its e-commerce website for the first time and does not have user-item purchase/rating history to start with initally. This recommendation system will help the users get a good recommendation to start with and once the buyers have a purchased history, the recommendation engine can use the model based collaborative filtering technique."
   ]
  }
 ],
 "metadata": {
  "kernelspec": {
   "display_name": "Python 3",
   "language": "python",
   "name": "python3"
  },
  "language_info": {
   "codemirror_mode": {
    "name": "ipython",
    "version": 3
   },
   "file_extension": ".py",
   "mimetype": "text/x-python",
   "name": "python",
   "nbconvert_exporter": "python",
   "pygments_lexer": "ipython3",
   "version": "3.7.0"
  }
 },
 "nbformat": 4,
 "nbformat_minor": 2
}
